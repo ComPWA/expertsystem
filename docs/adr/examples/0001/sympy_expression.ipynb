{
 "cells": [
  {
   "cell_type": "markdown",
   "metadata": {},
   "source": [
    "# SymPy example"
   ]
  },
  {
   "cell_type": "markdown",
   "metadata": {},
   "source": [
    "Some useful SymPy pages:\n",
    "- [Tutorial page](https://docs.sympy.org/latest/tutorial/index.html)\n",
    "- [SymPy API](https://docs.sympy.org/latest/modules/index.html)"
   ]
  },
  {
   "cell_type": "markdown",
   "metadata": {},
   "source": [
    "Parameters would become a mapping of `Symbol`s to initial, suggested values and dynamics would be a mapping of `Symbol`s to 'suggested' expressions. Intensity will be the eventual combined expression."
   ]
  },
  {
   "cell_type": "code",
   "execution_count": null,
   "metadata": {},
   "outputs": [],
   "source": [
    "from typing import Dict\n",
    "\n",
    "import attr\n",
    "import sympy as sy\n",
    "\n",
    "\n",
    "@attr.s\n",
    "class AmplitudeModel:\n",
    "    initial_values: Dict[sy.Symbol, float] = attr.ib(default=dict())\n",
    "    dynamics: Dict[sy.Symbol, sy.Function] = attr.ib(default=dict())\n",
    "    intensity: sy.Expr = attr.ib(default=None)"
   ]
  },
  {
   "cell_type": "markdown",
   "metadata": {},
   "source": [
    "There needs to be one symbol $x$ that represents the four-momentum input:"
   ]
  },
  {
   "cell_type": "code",
   "execution_count": null,
   "metadata": {},
   "outputs": [],
   "source": [
    "x = sy.Symbol(\"x\")"
   ]
  },
  {
   "cell_type": "markdown",
   "metadata": {},
   "source": [
    "As an example, let's create an `AmplitudeModel` with an `intensity` that is a sum of Gaussians. Each Gaussian here takes the rôle of a dynamics function:"
   ]
  },
  {
   "cell_type": "code",
   "execution_count": null,
   "metadata": {},
   "outputs": [],
   "source": [
    "model = AmplitudeModel()\n",
    "\n",
    "N_COMPONENTS = 3\n",
    "for i in range(1, N_COMPONENTS + 1):\n",
    "    mu = sy.Symbol(fR\"\\mu_{i}\")\n",
    "    sigma = sy.Symbol(fR\"\\sigma_{i}\")\n",
    "    model.initial_values.update(\n",
    "        {\n",
    "            mu: float(i),\n",
    "            sigma: 1 / (2 * i),\n",
    "        }\n",
    "    )\n",
    "    gauss = sy.exp(-((x - mu) ** 2) / (sigma ** 2)) / (sigma * sy.sqrt(2* sy.pi))\n",
    "    dyn_symbol = sy.Symbol(f\"\\mathrm{{dyn}}_{i}\")\n",
    "    model.dynamics[dyn_symbol] = gauss\n",
    "\n",
    "coherent_sum = sum(model.dynamics)\n",
    "model.intensity = coherent_sum"
   ]
  },
  {
   "cell_type": "code",
   "execution_count": null,
   "metadata": {},
   "outputs": [],
   "source": [
    "model.initial_values"
   ]
  },
  {
   "cell_type": "code",
   "execution_count": null,
   "metadata": {},
   "outputs": [],
   "source": [
    "model.intensity"
   ]
  },
  {
   "cell_type": "markdown",
   "metadata": {},
   "source": [
    "Dynamics are inserted into the intensity expression of the model:"
   ]
  },
  {
   "cell_type": "code",
   "execution_count": null,
   "metadata": {},
   "outputs": [],
   "source": [
    "model.intensity.subs(model.dynamics)"
   ]
  },
  {
   "cell_type": "markdown",
   "metadata": {},
   "source": [
    "And, for evaluating, the 'suggested' initial parameter values are inserted:"
   ]
  },
  {
   "cell_type": "code",
   "execution_count": null,
   "metadata": {},
   "outputs": [],
   "source": [
    "model.intensity.subs(model.dynamics).subs(model.initial_values)"
   ]
  },
  {
   "cell_type": "markdown",
   "metadata": {},
   "source": [
    "Here's a small helper function to plot this model:"
   ]
  },
  {
   "cell_type": "code",
   "execution_count": null,
   "metadata": {
    "tags": [
     "hide-input"
    ]
   },
   "outputs": [],
   "source": [
    "def plot_model(model: AmplitudeModel) -> None:\n",
    "    total_plot = sy.plotting.plot(\n",
    "        model.intensity.subs(model.dynamics).subs(model.initial_values),\n",
    "        (x, 0, 4),\n",
    "        show=False,\n",
    "        line_color=\"black\",\n",
    "    )\n",
    "    p1 = sy.plotting.plot(\n",
    "        model.dynamics[sy.Symbol(\"\\mathrm{dyn}_1\")].subs(model.initial_values),\n",
    "        (x, 0, 4),\n",
    "        line_color=\"red\",\n",
    "        show=False,\n",
    "    )\n",
    "    p2 = sy.plotting.plot(\n",
    "        model.dynamics[sy.Symbol(\"\\mathrm{dyn}_2\")].subs(model.initial_values),\n",
    "        (x, 0, 4),\n",
    "        line_color=\"blue\",\n",
    "        show=False,\n",
    "    )\n",
    "    p3 = sy.plotting.plot(\n",
    "        model.dynamics[sy.Symbol(\"\\mathrm{dyn}_3\")].subs(model.initial_values),\n",
    "        (x, 0, 4),\n",
    "        line_color=\"green\",\n",
    "        show=False,\n",
    "    )\n",
    "    total_plot.extend(p1)\n",
    "    total_plot.extend(p2)\n",
    "    total_plot.extend(p3)\n",
    "    total_plot.show()"
   ]
  },
  {
   "cell_type": "code",
   "execution_count": null,
   "metadata": {},
   "outputs": [],
   "source": [
    "plot_model(model)"
   ]
  },
  {
   "cell_type": "markdown",
   "metadata": {},
   "source": [
    "Now we can couple parameters like this:"
   ]
  },
  {
   "cell_type": "code",
   "execution_count": null,
   "metadata": {},
   "outputs": [],
   "source": [
    "model.initial_values[sy.Symbol(\"\\sigma_1\")] = sy.Symbol(\"\\sigma_3\")\n",
    "plot_model(model)\n",
    "model.initial_values[sy.Symbol(\"\\sigma_3\")] = 1\n",
    "plot_model(model)"
   ]
  },
  {
   "cell_type": "markdown",
   "metadata": {},
   "source": [
    "And it's also possible to insert custom dynamics:"
   ]
  },
  {
   "cell_type": "code",
   "execution_count": null,
   "metadata": {},
   "outputs": [],
   "source": [
    "model.dynamics[sy.Symbol(\"\\mathrm{dyn}_3\")] = sy.sqrt(x)\n",
    "plot_model(model)"
   ]
  }
 ],
 "metadata": {
  "kernelspec": {
   "display_name": "Python 3",
   "language": "python",
   "name": "python3"
  },
  "language_info": {
   "codemirror_mode": {
    "name": "ipython",
    "version": 3
   },
   "file_extension": ".py",
   "mimetype": "text/x-python",
   "name": "python",
   "nbconvert_exporter": "python",
   "pygments_lexer": "ipython3",
   "version": "3.8.5"
  },
  "toc-autonumbering": false,
  "toc-showcode": false,
  "toc-showmarkdowntxt": false,
  "toc-showtags": true
 },
 "nbformat": 4,
 "nbformat_minor": 4
}
