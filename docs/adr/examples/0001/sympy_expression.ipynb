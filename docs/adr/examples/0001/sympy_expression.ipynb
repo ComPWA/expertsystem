{
 "cells": [
  {
   "cell_type": "markdown",
   "metadata": {},
   "source": [
    "# SymPy example"
   ]
  },
  {
   "cell_type": "markdown",
   "metadata": {},
   "source": [
    "Some useful SymPy pages:\n",
    "- [Tutorial page](https://docs.sympy.org/latest/tutorial/index.html)\n",
    "- [SymPy API](https://docs.sympy.org/latest/modules/index.html)"
   ]
  },
  {
   "cell_type": "markdown",
   "metadata": {},
   "source": [
    "## Defining symbols and expressions"
   ]
  },
  {
   "cell_type": "markdown",
   "metadata": {},
   "source": [
    "Declare [`Symbols`](https://docs.sympy.org/latest/tutorial/gotchas.html#symbols):"
   ]
  },
  {
   "cell_type": "code",
   "execution_count": null,
   "metadata": {},
   "outputs": [],
   "source": [
    "import sympy as sym\n",
    "\n",
    "a = sym.Symbol(\"a\")\n",
    "b = sym.Symbol(\"b\")\n",
    "x = sym.Symbol(\"x\")"
   ]
  },
  {
   "cell_type": "markdown",
   "metadata": {},
   "source": [
    "Create some expression ([`Expr`](https://docs.sympy.org/latest/modules/core.html#id17)):"
   ]
  },
  {
   "cell_type": "code",
   "execution_count": null,
   "metadata": {},
   "outputs": [],
   "source": [
    "trigonometric_expression = sym.sin(a * x) + sym.cos(b * x)\n",
    "trigonometric_expression"
   ]
  },
  {
   "cell_type": "code",
   "execution_count": null,
   "metadata": {},
   "outputs": [],
   "source": [
    "n = sym.Symbol(\"n\")\n",
    "full_expression = sym.sqrt(trigonometric_expression + n)\n",
    "full_expression"
   ]
  },
  {
   "cell_type": "markdown",
   "metadata": {},
   "source": [
    "All parameters and variables are:"
   ]
  },
  {
   "cell_type": "code",
   "execution_count": null,
   "metadata": {},
   "outputs": [],
   "source": [
    "full_expression.free_symbols"
   ]
  },
  {
   "cell_type": "markdown",
   "metadata": {},
   "source": [
    "Bit of a hack for now ― get the 'parameters' by setting `x` to some fixed value:"
   ]
  },
  {
   "cell_type": "code",
   "execution_count": null,
   "metadata": {},
   "outputs": [],
   "source": [
    "full_expression.subs(x, 1).free_symbols"
   ]
  },
  {
   "cell_type": "markdown",
   "metadata": {},
   "source": [
    "A better solution might be to [recurse](https://docs.sympy.org/latest/tutorial/manipulation.html#recursing-through-an-expression-tree) through the [expression tree](https://docs.sympy.org/latest/tutorial/manipulation.html), but then it would be necessary to somehow distinguish between `Symbol` as a parameter ($a$, $b$, $n$) and a variable ($x$)."
   ]
  },
  {
   "cell_type": "markdown",
   "metadata": {},
   "source": [
    "## Visualize"
   ]
  },
  {
   "cell_type": "markdown",
   "metadata": {},
   "source": [
    "Visualize the [expression tree](https://docs.sympy.org/latest/tutorial/manipulation.html):"
   ]
  },
  {
   "cell_type": "code",
   "execution_count": null,
   "metadata": {},
   "outputs": [],
   "source": [
    "import graphviz\n",
    "\n",
    "graphviz.Source(sym.dotprint(full_expression))"
   ]
  },
  {
   "cell_type": "code",
   "execution_count": null,
   "metadata": {},
   "outputs": [],
   "source": [
    "sym.plotting.plot(full_expression.subs({a: 1, b: 0.5 * sym.pi, n: 4}), (x, -2, 6));"
   ]
  },
  {
   "cell_type": "markdown",
   "metadata": {},
   "source": [
    "## Optimize"
   ]
  },
  {
   "cell_type": "markdown",
   "metadata": {},
   "source": [
    "See:\n",
    "- Sympy [`lambdify`](https://docs.sympy.org/latest/modules/utilities/lambdify.html), especially `modules=\"tensorflow\"`\n",
    "- [`scipy.optimize`](https://docs.scipy.org/doc/scipy/reference/optimize.html)"
   ]
  }
 ],
 "metadata": {
  "kernelspec": {
   "display_name": "Python 3",
   "language": "python",
   "name": "python3"
  },
  "language_info": {
   "codemirror_mode": {
    "name": "ipython",
    "version": 3
   },
   "file_extension": ".py",
   "mimetype": "text/x-python",
   "name": "python",
   "nbconvert_exporter": "python",
   "pygments_lexer": "ipython3",
   "version": "3.8.5"
  }
 },
 "nbformat": 4,
 "nbformat_minor": 4
}
