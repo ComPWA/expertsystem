{
 "cells": [
  {
   "cell_type": "code",
   "execution_count": null,
   "id": "finnish-pricing",
   "metadata": {},
   "outputs": [],
   "source": [
    "import numpy as np\n",
    "import sympy\n",
    "\n",
    "# a,b represent parameters, x,y data\n",
    "a, b, x, y = sympy.symbols(\"a,b,x,y\")\n",
    "model = a * x + b * y"
   ]
  },
  {
   "cell_type": "markdown",
   "id": "worth-nowhere",
   "metadata": {},
   "source": [
    "Normally one would lambdify the complete model with respect to all free symbols"
   ]
  },
  {
   "cell_type": "code",
   "execution_count": null,
   "id": "funny-warning",
   "metadata": {},
   "outputs": [],
   "source": [
    "eval_model = sympy.lambdify((x, y, a, b), model)\n",
    "\n",
    "x_input = np.array([1, 2, 3, 4, 5])\n",
    "y_input = np.array([5, 4, 3, 2, 1])\n",
    "eval_model(x_input, y_input, 1, 2)"
   ]
  },
  {
   "cell_type": "markdown",
   "id": "applicable-drawing",
   "metadata": {},
   "source": [
    "When using an `Estimator` the data input is constant though. Which means that the data is supplied is always the same. Hence optimization in form of caching can be performed.\n",
    "The idea is to traverse through the `Expr` tree and identify sub expressions that are independent of parameters, the only parts that change during the optimization process.\n",
    "\n",
    "In this example we fix b to the value of 2. Hence the sub expression b * y can be precomputed."
   ]
  },
  {
   "cell_type": "code",
   "execution_count": null,
   "id": "decimal-processor",
   "metadata": {},
   "outputs": [],
   "source": [
    "constant_symbols = {b, x, y}\n",
    "constant_sub_expressions = []\n",
    "\n",
    "def find_constant_subexpressions(expr) -> bool:\n",
    "    if not expr.args:\n",
    "        if expr in constant_symbols:\n",
    "            return True\n",
    "        return False\n",
    "    \n",
    "    is_constant = True\n",
    "    temp_constant_sub_expression = []\n",
    "    for arg in expr.args:\n",
    "        if find_constant_subexpressions(arg):\n",
    "            if arg.args:\n",
    "                temp_constant_sub_expression.append(arg)\n",
    "        else:\n",
    "            is_constant = False\n",
    "            \n",
    "    if not is_constant and temp_constant_sub_expression:\n",
    "        global constant_sub_expressions\n",
    "        constant_sub_expressions += temp_constant_sub_expression\n",
    "    return is_constant\n",
    "\n",
    "find_constant_subexpressions(model)"
   ]
  },
  {
   "cell_type": "code",
   "execution_count": null,
   "id": "heard-practice",
   "metadata": {},
   "outputs": [],
   "source": [
    "constant_sub_expressions"
   ]
  },
  {
   "cell_type": "markdown",
   "id": "bulgarian-court",
   "metadata": {},
   "source": [
    "So let's lambdify those constant subexpressions and substitute them with a placeholder"
   ]
  },
  {
   "cell_type": "code",
   "execution_count": null,
   "id": "framed-control",
   "metadata": {},
   "outputs": [],
   "source": [
    "from typing import Dict, Callable\n",
    "\n",
    "constant_sub_functions: Dict[sympy.Symbol, Callable] = {}\n",
    "\n",
    "for sub_expr in constant_sub_expressions:\n",
    "    placeholder = sympy.Symbol(f\"cached_{str(sub_expr)}\")\n",
    "    \n",
    "    constant_sub_functions[placeholder] = sympy.lambdify(set(sub_expr.free_symbols), sub_expr)\n",
    "    model = model.subs(sub_expr, placeholder)"
   ]
  },
  {
   "cell_type": "code",
   "execution_count": null,
   "id": "foreign-router",
   "metadata": {},
   "outputs": [],
   "source": [
    "model"
   ]
  },
  {
   "cell_type": "code",
   "execution_count": null,
   "id": "frank-samoa",
   "metadata": {},
   "outputs": [],
   "source": [
    "constant_sub_functions"
   ]
  },
  {
   "cell_type": "markdown",
   "id": "emerging-meter",
   "metadata": {},
   "source": [
    "Now the evaluation of the full model uses the cached values as input"
   ]
  },
  {
   "cell_type": "code",
   "execution_count": null,
   "id": "beautiful-european",
   "metadata": {},
   "outputs": [],
   "source": [
    "cached_eval_model = sympy.lambdify((a,x)+tuple(constant_sub_functions.keys()), model)"
   ]
  },
  {
   "cell_type": "code",
   "execution_count": null,
   "id": "incorrect-example",
   "metadata": {},
   "outputs": [],
   "source": [
    "cached_values = list(constant_sub_functions.values())[0](2, y_input)"
   ]
  },
  {
   "cell_type": "code",
   "execution_count": null,
   "id": "adequate-penguin",
   "metadata": {},
   "outputs": [],
   "source": [
    "cached_eval_model(1, x_input, cached_values)"
   ]
  },
  {
   "cell_type": "markdown",
   "id": "induced-brooks",
   "metadata": {},
   "source": [
    "Which is the same as "
   ]
  },
  {
   "cell_type": "code",
   "execution_count": null,
   "id": "extra-metabolism",
   "metadata": {},
   "outputs": [],
   "source": [
    "eval_model(x_input, y_input, 1, 2)"
   ]
  },
  {
   "cell_type": "markdown",
   "id": "incoming-theater",
   "metadata": {},
   "source": [
    "So this works!"
   ]
  },
  {
   "cell_type": "code",
   "execution_count": null,
   "id": "ordered-concord",
   "metadata": {},
   "outputs": [],
   "source": []
  }
 ],
 "metadata": {
  "kernelspec": {
   "display_name": "Python 3",
   "language": "python",
   "name": "python3"
  },
  "language_info": {
   "codemirror_mode": {
    "name": "ipython",
    "version": 3
   },
   "file_extension": ".py",
   "mimetype": "text/x-python",
   "name": "python",
   "nbconvert_exporter": "python",
   "pygments_lexer": "ipython3",
   "version": "3.6.9"
  }
 },
 "nbformat": 4,
 "nbformat_minor": 5
}
