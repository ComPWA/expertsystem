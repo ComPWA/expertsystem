{
 "cells": [
  {
   "cell_type": "markdown",
   "id": "extraordinary-exhibition",
   "metadata": {},
   "source": [
    "# Subclassing `sympy.Expr`"
   ]
  },
  {
   "cell_type": "code",
   "execution_count": null,
   "id": "roman-arthritis",
   "metadata": {
    "tags": [
     "hide-cell",
     "remove-cell"
    ]
   },
   "outputs": [],
   "source": [
    "# !pip install matplotlib==3.3.3 sympy==1.7.1"
   ]
  },
  {
   "cell_type": "code",
   "execution_count": null,
   "id": "conventional-simon",
   "metadata": {
    "jupyter": {
     "source_hidden": true
    },
    "tags": [
     "hide-cell"
    ]
   },
   "outputs": [],
   "source": [
    "from abc import abstractmethod\n",
    "from typing import Any, Callable, Set, Type\n",
    "\n",
    "import sympy as sy\n",
    "from helpers import (\n",
    "    StateTransitionGraph,\n",
    "    blatt_weisskopf,\n",
    "    determine_attached_final_state,\n",
    "    two_body_momentum_squared,\n",
    ")"
   ]
  },
  {
   "cell_type": "markdown",
   "id": "integrated-trustee",
   "metadata": {},
   "source": [
    "The major disadvantage of {doc}`function`, is that there is no way to identify which `Symbol`s are variables and which are parameters. This can be solved by sub-classing from {class}`sympy.core.expr.Expr`.\n",
    "\n",
    "An example of a class that does this is {class}`~sympy.physics.quantum.spin.WignerD`. There, the implementation of the dynamics expression can be evaluated through a {meth}`~sympy.core.basic.Basic.doit` call. This method can call anything, but {mod}`sympy` seems to follow the convention that it returns an 'evaluated' version of the class itself, where 'evaluated' means that any randomly named method of the class has been called on the `*args` that are implemented through the `__new__` method (the examples below make this clearer).\n",
    "\n",
    "For our purposes, the follow `DynamicsExpr` base class illustrates the interface that we expect. Here, `evaluate` is where expression is implemented and (just as in {doc}`function`) `from_graph` is the builder method."
   ]
  },
  {
   "cell_type": "code",
   "execution_count": null,
   "id": "functional-second",
   "metadata": {},
   "outputs": [],
   "source": [
    "class DynamicsExpr(sy.Expr):\n",
    "    @classmethod\n",
    "    @abstractmethod\n",
    "    def __new__(cls, *args: sy.Symbol, **hints: Any) -> sy.Expr:\n",
    "        pass\n",
    "\n",
    "    @abstractmethod\n",
    "    def doit(self, **hints: Any) -> sy.Expr:\n",
    "        pass\n",
    "\n",
    "    @abstractmethod\n",
    "    def evaluate(self) -> sy.Expr:\n",
    "        pass\n",
    "\n",
    "    @classmethod\n",
    "    @abstractmethod\n",
    "    def from_graph(cls, graph: StateTransitionGraph, edge_id: int) -> sy.Basic:\n",
    "        pass"
   ]
  },
  {
   "cell_type": "markdown",
   "id": "alert-domestic",
   "metadata": {},
   "source": [
    "The `__new__` and `doit` methods split the construction from the evaluation of the expression. This allows one to distinguish `variables` and `parameters` and present them as properties:"
   ]
  },
  {
   "cell_type": "code",
   "execution_count": null,
   "id": "tribal-bracket",
   "metadata": {},
   "outputs": [],
   "source": [
    "class RelativisticBreitWigner(DynamicsExpr):\n",
    "    def __new__(cls, *args: sy.Symbol, **hints: Any) -> sy.Expr:\n",
    "        if len(args) != 3:\n",
    "            raise ValueError(f\"3 parameters expected, got {len(args)}\")\n",
    "        args = sy.sympify(args)\n",
    "        evaluate = hints.get(\"evaluate\", False)\n",
    "        if evaluate:\n",
    "            return sy.Expr.__new__(cls, *args).evaluate()  # type: ignore  # pylint: disable=no-member\n",
    "        return sy.Expr.__new__(cls, *args)\n",
    "\n",
    "    @property\n",
    "    def mass(self) -> sy.Symbol:\n",
    "        return self.args[0]\n",
    "\n",
    "    @property\n",
    "    def mass0(self) -> sy.Symbol:\n",
    "        return self.args[1]\n",
    "\n",
    "    @property\n",
    "    def gamma0(self) -> sy.Symbol:\n",
    "        return self.args[2]\n",
    "\n",
    "    @property\n",
    "    def variables(self) -> Set[sy.Symbol]:\n",
    "        return {self.mass}\n",
    "\n",
    "    @property\n",
    "    def parameters(self) -> Set[sy.Symbol]:\n",
    "        return {self.mass0, self.gamma0}\n",
    "\n",
    "    def doit(self, **hints: Any) -> sy.Expr:\n",
    "        return RelativisticBreitWigner(*self.args, **hints, evaluate=True)\n",
    "\n",
    "    def evaluate(self) -> sy.Expr:\n",
    "        return (\n",
    "            self.gamma0\n",
    "            * self.mass0\n",
    "            / (\n",
    "                self.mass0 ** 2\n",
    "                - self.mass ** 2\n",
    "                - self.gamma0 * self.mass0 * sy.I\n",
    "            )\n",
    "        )\n",
    "\n",
    "    @classmethod\n",
    "    def from_graph(\n",
    "        cls, graph: StateTransitionGraph, edge_id: int\n",
    "    ) -> \"RelativisticBreitWigner\":\n",
    "        edge_ids = determine_attached_final_state(graph, edge_id)\n",
    "        final_state_ids = map(str, edge_ids)\n",
    "        mass = sy.Symbol(f\"m_{{{'+'.join(final_state_ids)}}}\")\n",
    "        particle, _ = graph.get_edge_props(edge_id)\n",
    "        mass0 = sy.Symbol(f\"m_{{{particle.latex}}}\")\n",
    "        gamma0 = sy.Symbol(fR\"\\Gamma_{{{particle.latex}}}\")\n",
    "        return cls(mass, mass0, gamma0)"
   ]
  },
  {
   "cell_type": "code",
   "execution_count": null,
   "id": "rapid-literature",
   "metadata": {
    "jupyter": {
     "source_hidden": true
    },
    "tags": [
     "hide-cell",
     "keep_output"
    ]
   },
   "outputs": [],
   "source": [
    "class RelativisticBreitWignerWithFF(DynamicsExpr):\n",
    "    def __new__(cls, *args: sy.Symbol, **hints: Any) -> sy.Expr:\n",
    "        if len(args) != 7:\n",
    "            raise ValueError(f\"7 parameters expected, got {len(args)}\")\n",
    "        args = sy.sympify(args)\n",
    "        evaluate = hints.get(\"evaluate\", False)\n",
    "        if evaluate:\n",
    "            return sy.Expr.__new__(cls, *args).evaluate()  # type: ignore  # pylint: disable=no-member\n",
    "        return sy.Expr.__new__(cls, *args)\n",
    "\n",
    "    def doit(self, **hints: Any) -> sy.Expr:\n",
    "        return RelativisticBreitWignerWithFF(\n",
    "            *self.args, **hints, evaluate=True\n",
    "        )\n",
    "\n",
    "    @property\n",
    "    def mass(self) -> sy.Symbol:\n",
    "        return self.args[0]\n",
    "\n",
    "    @property\n",
    "    def mass0(self) -> sy.Symbol:\n",
    "        return self.args[1]\n",
    "\n",
    "    @property\n",
    "    def gamma0(self) -> sy.Symbol:\n",
    "        return self.args[2]\n",
    "\n",
    "    @property\n",
    "    def m_a(self) -> sy.Symbol:\n",
    "        return self.args[3]\n",
    "\n",
    "    @property\n",
    "    def m_b(self) -> sy.Symbol:\n",
    "        return self.args[4]\n",
    "\n",
    "    @property\n",
    "    def angular_momentum(self) -> sy.Symbol:\n",
    "        return self.args[5]\n",
    "\n",
    "    @property\n",
    "    def meson_radius(self) -> sy.Symbol:\n",
    "        return self.args[6]\n",
    "\n",
    "    def evaluate(self) -> sy.Expr:\n",
    "        # Computed variables\n",
    "        q_squared = two_body_momentum_squared(self.mass, self.m_a, self.m_b)\n",
    "        q0_squared = two_body_momentum_squared(self.mass0, self.m_a, self.m_b)\n",
    "        ff2 = blatt_weisskopf(\n",
    "            q_squared, self.meson_radius, self.angular_momentum\n",
    "        )\n",
    "        ff02 = blatt_weisskopf(\n",
    "            q0_squared, self.meson_radius, self.angular_momentum\n",
    "        )\n",
    "        width = self.gamma0 * (self.mass0 / self.mass) * (ff2 / ff02)\n",
    "        width = width * sy.sqrt(q_squared / q0_squared)\n",
    "        # Expression\n",
    "        return (\n",
    "            RelativisticBreitWigner(self.mass, self.mass0, width)\n",
    "            * self.mass0\n",
    "            * self.gamma0\n",
    "            * sy.sqrt(ff2)\n",
    "        )\n",
    "\n",
    "    @classmethod\n",
    "    def from_graph(\n",
    "        cls, graph: StateTransitionGraph, edge_id: int\n",
    "    ) -> \"RelativisticBreitWignerWithFF\":\n",
    "        edge_ids = determine_attached_final_state(graph, edge_id)\n",
    "        final_state_ids = map(str, edge_ids)\n",
    "        mass = sy.Symbol(f\"m_{{{'+'.join(final_state_ids)}}}\")\n",
    "        particle, _ = graph.get_edge_props(edge_id)\n",
    "        mass0 = sy.Symbol(f\"m_{{{particle.latex}}}\")\n",
    "        gamma0 = sy.Symbol(fR\"\\Gamma_{{{particle.latex}}}\")\n",
    "        m_a = sy.Symbol(f\"m_{edge_ids[0]}\")\n",
    "        m_b = sy.Symbol(f\"m_{edge_ids[1]}\")\n",
    "        angular_momentum = particle.spin  # helicity formalism only!\n",
    "        meson_radius = sy.Symbol(fR\"R_{{{particle.latex}}}\")\n",
    "        return cls(\n",
    "            mass, mass0, gamma0, m_a, m_b, angular_momentum, meson_radius\n",
    "        )"
   ]
  },
  {
   "cell_type": "markdown",
   "id": "collectible-change",
   "metadata": {},
   "source": [
    "The following illustrates the difference with {doc}`function`. First, notice that a class derived from `DynamicsExpr` is still **identifiable** upon construction:"
   ]
  },
  {
   "cell_type": "code",
   "execution_count": null,
   "id": "corresponding-density",
   "metadata": {
    "tags": [
     "keep_output"
    ]
   },
   "outputs": [
    {
     "data": {
      "text/latex": [
       "$\\displaystyle RelativisticBreitWigner\\left(m, m_{0}, \\Gamma\\right)$"
      ],
      "text/plain": [
       "RelativisticBreitWigner(m, m_0, \\Gamma)"
      ]
     },
     "execution_count": null,
     "metadata": {},
     "output_type": "execute_result"
    }
   ],
   "source": [
    "m, m0, w0 = sy.symbols(R\"m m_0 \\Gamma\")\n",
    "rel_bw = RelativisticBreitWigner(m, m0, w0)\n",
    "rel_bw"
   ]
  },
  {
   "cell_type": "markdown",
   "id": "optimum-alignment",
   "metadata": {},
   "source": [
    "```{toggle}\n",
    "The way in which this expression is rendered in a Jupyter notebook can be changed by overwriting the `_pretty` and/or `_latex` methods.\n",
    "```"
   ]
  },
  {
   "cell_type": "markdown",
   "id": "ethical-globe",
   "metadata": {},
   "source": [
    "Only once `doit()` is called, is the `DynamicsExpr` converted into a mathematical expression:"
   ]
  },
  {
   "cell_type": "code",
   "execution_count": null,
   "id": "automatic-silver",
   "metadata": {
    "tags": [
     "keep_output"
    ]
   },
   "outputs": [
    {
     "data": {
      "text/latex": [
       "$\\displaystyle \\frac{\\Gamma m_{0}}{- i \\Gamma m_{0} - m^{2} + m_{0}^{2}}$"
      ],
      "text/plain": [
       "\\Gamma*m_0/(-I*\\Gamma*m_0 - m**2 + m_0**2)"
      ]
     },
     "execution_count": null,
     "metadata": {},
     "output_type": "execute_result"
    }
   ],
   "source": [
    "evaluated_bw = rel_bw.doit()\n",
    "evaluated_bw"
   ]
  },
  {
   "cell_type": "code",
   "execution_count": null,
   "id": "greenhouse-supplier",
   "metadata": {
    "tags": [
     "keep_output"
    ]
   },
   "outputs": [
    {
     "data": {
      "image/png": "[encoded data removed]",
      "text/plain": [
       "<Figure size 432x288 with 1 Axes>"
      ]
     },
     "metadata": {
      "needs_background": "light"
     },
     "output_type": "display_data"
    }
   ],
   "source": [
    "sy.plot(\n",
    "    sy.Abs(evaluated_bw.subs({m0: 1, w0: 0.2})),\n",
    "    (m, 0, 2),\n",
    "    axis_center=(0, 0),\n",
    "    ylim=(0, 1),\n",
    ");"
   ]
  },
  {
   "cell_type": "markdown",
   "id": "spanish-cancer",
   "metadata": {},
   "source": [
    "## Pros"
   ]
  },
  {
   "cell_type": "markdown",
   "id": "opposed-journal",
   "metadata": {},
   "source": [
    "### 1. Dynamics can be identified in the full expression"
   ]
  },
  {
   "cell_type": "markdown",
   "id": "framed-immigration",
   "metadata": {},
   "source": [
    "When {doc}`recursing through an expression tree <sympy:tutorial/manipulation>` it is still possible to identify instances of `DynamicsExpr` (before `doit()` has been called)."
   ]
  },
  {
   "cell_type": "markdown",
   "id": "connected-trinidad",
   "metadata": {},
   "source": [
    "### 2. Possible to identify `variables` and `parameters`"
   ]
  },
  {
   "cell_type": "markdown",
   "id": "finnish-atlas",
   "metadata": {},
   "source": [
    "## Cons"
   ]
  },
  {
   "cell_type": "markdown",
   "id": "dominant-newport",
   "metadata": {},
   "source": [
    "### 1. Inconvenient to implement custom dynamics"
   ]
  },
  {
   "cell_type": "markdown",
   "id": "spatial-gregory",
   "metadata": {},
   "source": [
    "There are a lot of implicit conventions that need to be followed to provide a correct implementation of a `DynamicsExpr`. Some of this may be mitigated by proving some class decorator that can easily construct the `__new__()` and `doit()` methods for you."
   ]
  },
  {
   "cell_type": "code",
   "execution_count": null,
   "id": "raised-principle",
   "metadata": {},
   "outputs": [],
   "source": [
    "def dynamics_expression(n_args: int) -> Callable[[type], Type[DynamicsExpr]]:\n",
    "    def decorator(decorated_class: type) -> Type[DynamicsExpr]:\n",
    "        def __new__(cls, *args: sy.Symbol, **hints: Any) -> sy.Expr:\n",
    "            if len(args) != n_args:\n",
    "                raise ValueError(\n",
    "                    f\"{n_args} parameters expected, got {len(args)}\"\n",
    "                )\n",
    "            args = sy.sympify(args)\n",
    "            evaluate = hints.get(\"evaluate\", False)\n",
    "            if evaluate:\n",
    "                return sy.Expr.__new__(cls, *args).evaluate()\n",
    "            return sy.Expr.__new__(cls, *args)\n",
    "\n",
    "        def doit(self, **hints: Any) -> sy.Expr:\n",
    "            return decorated_class(*self.args, **hints, evaluate=True)\n",
    "\n",
    "        decorated_class.__new__ = __new__\n",
    "        decorated_class.doit = doit\n",
    "        return decorated_class\n",
    "\n",
    "    return decorator"
   ]
  },
  {
   "cell_type": "code",
   "execution_count": null,
   "id": "surgical-screen",
   "metadata": {},
   "outputs": [],
   "source": [
    "@dynamics_expression(n_args=3)\n",
    "class Gauss(DynamicsExpr):\n",
    "    @property\n",
    "    def mass(self) -> sy.Symbol:\n",
    "        return self.args[0]\n",
    "\n",
    "    @property\n",
    "    def mu(self) -> sy.Symbol:\n",
    "        return self.args[1]\n",
    "\n",
    "    @property\n",
    "    def sigma(self) -> sy.Symbol:\n",
    "        return self.args[2]\n",
    "\n",
    "    @property\n",
    "    def variables(self) -> Set[sy.Symbol]:\n",
    "        return {self.mass}\n",
    "\n",
    "    @property\n",
    "    def parameters(self) -> Set[sy.Symbol]:\n",
    "        return {self.mu, self.sigma}\n",
    "\n",
    "    def evaluate(self) -> sy.Expr:\n",
    "        return sy.exp(-((self.mass - self.mu) ** 2) / self.sigma ** 2)\n",
    "\n",
    "    @classmethod\n",
    "    def from_graph(\n",
    "        cls, graph: StateTransitionGraph, edge_id: int\n",
    "    ) -> \"RelativisticBreitWigner\":\n",
    "        edge_ids = determine_attached_final_state(graph, edge_id)\n",
    "        final_state_ids = map(str, edge_ids)\n",
    "        mass = sy.Symbol(f\"m_{{{'+'.join(final_state_ids)}}}\")\n",
    "        particle, _ = graph.get_edge_props(edge_id)\n",
    "        mass0 = sy.Symbol(f\"\\mu_{{{particle.latex}}}\")\n",
    "        gamma0 = sy.Symbol(fR\"\\sigma_{{{particle.latex}}}\")\n",
    "        return cls(mass, mass0, gamma0)"
   ]
  },
  {
   "cell_type": "code",
   "execution_count": null,
   "id": "severe-listening",
   "metadata": {
    "tags": [
     "keep_output"
    ]
   },
   "outputs": [
    {
     "data": {
      "text/latex": [
       "$\\displaystyle Gauss\\left(x, \\mu, \\sigma\\right)$"
      ],
      "text/plain": [
       "Gauss(x, \\mu, \\sigma)"
      ]
     },
     "execution_count": null,
     "metadata": {},
     "output_type": "execute_result"
    }
   ],
   "source": [
    "x, mu, w0 = sy.symbols(R\"x \\mu \\sigma\")\n",
    "Gauss(x, mu, w0)"
   ]
  },
  {
   "cell_type": "code",
   "execution_count": null,
   "id": "bottom-neighbor",
   "metadata": {
    "tags": [
     "keep_output"
    ]
   },
   "outputs": [
    {
     "data": {
      "text/latex": [
       "$\\displaystyle e^{- \\frac{\\left(- \\mu + x\\right)^{2}}{\\sigma^{2}}}$"
      ],
      "text/plain": [
       "exp(-(-\\mu + x)**2/\\sigma**2)"
      ]
     },
     "execution_count": null,
     "metadata": {},
     "output_type": "execute_result"
    }
   ],
   "source": [
    "Gauss(x, mu, w0).doit()"
   ]
  },
  {
   "cell_type": "markdown",
   "id": "occasional-greene",
   "metadata": {},
   "source": [
    "### 2. Issues with `lambdify`"
   ]
  },
  {
   "cell_type": "markdown",
   "id": "imposed-mustang",
   "metadata": {},
   "source": [
    "It's not possible to plot a `DynamicsExpr` directly as long as no `lambdify` hook has been provided: **`doit()` has to be executed first**."
   ]
  },
  {
   "cell_type": "code",
   "execution_count": null,
   "id": "great-lancaster",
   "metadata": {
    "jupyter": {
     "source_hidden": true
    },
    "tags": [
     "keep_output",
     "hide-cell"
    ]
   },
   "outputs": [
    {
     "ename": "ValueError",
     "evalue": "The same variable should be used in all univariate expressions being plotted.",
     "output_type": "error",
     "traceback": [
      "\u001b[0;31m---------------------------------------------------------------------------\u001b[0m",
      "\u001b[0;31mValueError\u001b[0m                                Traceback (most recent call last)",
      "\u001b[0;32m<ipython-input-13-ec14fa3a209c>\u001b[0m in \u001b[0;36m<module>\u001b[0;34m\u001b[0m\n\u001b[0;32m----> 1\u001b[0;31m \u001b[0msy\u001b[0m\u001b[0;34m.\u001b[0m\u001b[0mplot\u001b[0m\u001b[0;34m(\u001b[0m\u001b[0msy\u001b[0m\u001b[0;34m.\u001b[0m\u001b[0mAbs\u001b[0m\u001b[0;34m(\u001b[0m\u001b[0mrel_bw\u001b[0m\u001b[0;34m.\u001b[0m\u001b[0msubs\u001b[0m\u001b[0;34m(\u001b[0m\u001b[0;34m{\u001b[0m\u001b[0mm0\u001b[0m\u001b[0;34m:\u001b[0m \u001b[0;36m1\u001b[0m\u001b[0;34m,\u001b[0m \u001b[0mw0\u001b[0m\u001b[0;34m:\u001b[0m \u001b[0;36m0.2\u001b[0m\u001b[0;34m}\u001b[0m\u001b[0;34m)\u001b[0m\u001b[0;34m)\u001b[0m\u001b[0;34m,\u001b[0m \u001b[0;34m(\u001b[0m\u001b[0mm\u001b[0m\u001b[0;34m,\u001b[0m \u001b[0;36m0\u001b[0m\u001b[0;34m,\u001b[0m \u001b[0;36m2\u001b[0m\u001b[0;34m)\u001b[0m\u001b[0;34m)\u001b[0m\u001b[0;34m;\u001b[0m\u001b[0;34m\u001b[0m\u001b[0;34m\u001b[0m\u001b[0m\n\u001b[0m",
      "\u001b[0;32m~/anaconda3/envs/es/lib/python3.8/site-packages/sympy/plotting/plot.py\u001b[0m in \u001b[0;36mplot\u001b[0;34m(show, *args, **kwargs)\u001b[0m\n\u001b[1;32m   1711\u001b[0m             \u001b[0mfree\u001b[0m \u001b[0;34m|=\u001b[0m \u001b[0ma\u001b[0m\u001b[0;34m.\u001b[0m\u001b[0mfree_symbols\u001b[0m\u001b[0;34m\u001b[0m\u001b[0;34m\u001b[0m\u001b[0m\n\u001b[1;32m   1712\u001b[0m             \u001b[0;32mif\u001b[0m \u001b[0mlen\u001b[0m\u001b[0;34m(\u001b[0m\u001b[0mfree\u001b[0m\u001b[0;34m)\u001b[0m \u001b[0;34m>\u001b[0m \u001b[0;36m1\u001b[0m\u001b[0;34m:\u001b[0m\u001b[0;34m\u001b[0m\u001b[0;34m\u001b[0m\u001b[0m\n\u001b[0;32m-> 1713\u001b[0;31m                 raise ValueError(\n\u001b[0m\u001b[1;32m   1714\u001b[0m                     \u001b[0;34m'The same variable should be used in all '\u001b[0m\u001b[0;34m\u001b[0m\u001b[0;34m\u001b[0m\u001b[0m\n\u001b[1;32m   1715\u001b[0m                     'univariate expressions being plotted.')\n",
      "\u001b[0;31mValueError\u001b[0m: The same variable should be used in all univariate expressions being plotted."
     ]
    }
   ],
   "source": [
    "sy.plot(sy.Abs(rel_bw.subs({m0: 1, w0: 0.2})), (m, 0, 2));"
   ]
  }
 ],
 "metadata": {
  "kernelspec": {
   "display_name": "Python 3",
   "language": "python",
   "name": "python3"
  },
  "language_info": {
   "codemirror_mode": {
    "name": "ipython",
    "version": 3
   },
   "file_extension": ".py",
   "mimetype": "text/x-python",
   "name": "python",
   "nbconvert_exporter": "python",
   "pygments_lexer": "ipython3",
   "version": "3.8.5"
  }
 },
 "nbformat": 4,
 "nbformat_minor": 5
}
