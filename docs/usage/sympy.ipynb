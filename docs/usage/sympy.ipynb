{
 "cells": [
  {
   "cell_type": "markdown",
   "metadata": {},
   "source": [
    "# SymPy amplitude model"
   ]
  },
  {
   "cell_type": "code",
   "execution_count": null,
   "metadata": {
    "jupyter": {
     "source_hidden": true
    },
    "tags": [
     "remove-cell"
    ]
   },
   "outputs": [],
   "source": [
    "# To run in in Google Colab, uncomment the following:\n",
    "\n",
    "# !pip install expertsystem graphviz"
   ]
  },
  {
   "cell_type": "markdown",
   "metadata": {},
   "source": [
    "## Generate transitions"
   ]
  },
  {
   "cell_type": "code",
   "execution_count": null,
   "metadata": {},
   "outputs": [],
   "source": [
    "import expertsystem as es\n",
    "\n",
    "result = es.reaction.generate(\n",
    "    initial_state=(\"J/psi(1S)\", [-1, +1]),\n",
    "    final_state=[\"gamma\", \"pi0\", \"pi0\"],\n",
    "    allowed_intermediate_particles=[\"f(0)(980)\", \"f(0)(1500)\"],\n",
    "    allowed_interaction_types=[\"strong\", \"EM\"],\n",
    ")"
   ]
  },
  {
   "cell_type": "code",
   "execution_count": null,
   "metadata": {},
   "outputs": [],
   "source": [
    "import graphviz\n",
    "\n",
    "graphs = result.collapse_graphs()\n",
    "dot = es.io.convert_to_dot(graphs)\n",
    "graphviz.Source(dot)"
   ]
  },
  {
   "cell_type": "markdown",
   "metadata": {},
   "source": [
    "## Build SymPy expression"
   ]
  },
  {
   "cell_type": "code",
   "execution_count": null,
   "metadata": {},
   "outputs": [],
   "source": [
    "model = es.amplitude.generate_sympy(result)\n",
    "expression = model.expression\n",
    "expression.top"
   ]
  },
  {
   "cell_type": "code",
   "execution_count": null,
   "metadata": {},
   "outputs": [],
   "source": [
    "expression.top"
   ]
  },
  {
   "cell_type": "code",
   "execution_count": null,
   "metadata": {},
   "outputs": [],
   "source": [
    "expression.top.subs(expression.intensities)"
   ]
  },
  {
   "cell_type": "code",
   "execution_count": null,
   "metadata": {},
   "outputs": [],
   "source": [
    "import sympy as sy\n",
    "\n",
    "initial_values = {k: v.value for k, v in model.parameters.items()}\n",
    "evaluated_wigner_d = sy.expand(\n",
    "    expression.full_expression.subs(initial_values).doit()\n",
    ")\n",
    "evaluated_wigner_d"
   ]
  },
  {
   "cell_type": "markdown",
   "metadata": {},
   "source": [
    "## Visualize"
   ]
  },
  {
   "cell_type": "markdown",
   "metadata": {},
   "source": [
    "In this case ($J/\\psi \\to \\gamma f_0, f_0 \\to \\pi^0\\pi^0$) _without dynamics_, the total intensity is only dependent on the $\\theta$ angle between the two $\\pi^0$'s:"
   ]
  },
  {
   "cell_type": "code",
   "execution_count": null,
   "metadata": {
    "tags": [
     "hide-input"
    ]
   },
   "outputs": [],
   "source": [
    "import sympy as sy\n",
    "\n",
    "theta = next(iter(evaluated_wigner_d.free_symbols))\n",
    "sy.plot(\n",
    "    evaluated_wigner_d,\n",
    "    (theta, 0, sy.pi),\n",
    "    axis_center=(0, 0),\n",
    "    ylabel=\"$I$\",\n",
    "    ylim=(0, 8),\n",
    ");"
   ]
  },
  {
   "cell_type": "markdown",
   "metadata": {},
   "source": [
    "This intensity is built up of four components:"
   ]
  },
  {
   "cell_type": "code",
   "execution_count": null,
   "metadata": {
    "tags": [
     "hide-input"
    ]
   },
   "outputs": [],
   "source": [
    "from IPython.display import display\n",
    "\n",
    "for intensity in expression.intensities:\n",
    "    display(intensity)"
   ]
  },
  {
   "cell_type": "code",
   "execution_count": null,
   "metadata": {
    "tags": [
     "hide-input"
    ]
   },
   "outputs": [],
   "source": [
    "import sympy as sy\n",
    "\n",
    "theta = next(iter(evaluated_wigner_d.free_symbols))\n",
    "\n",
    "plots = list()\n",
    "colors = [\"red\", \"blue\", \"green\", \"purple\"]\n",
    "\n",
    "total = 0\n",
    "for i, (label, intensity) in enumerate(expression.intensities.items()):\n",
    "    total += (\n",
    "        intensity.subs(expression.amplitudes)\n",
    "        .subs(expression.dynamics)\n",
    "        .subs(initial_values)\n",
    "        .doit()\n",
    "    )\n",
    "    plots.append(\n",
    "        sy.plot(\n",
    "            total,\n",
    "            (theta, 0, sy.pi),\n",
    "            axis_center=(0, 0),\n",
    "            ylabel=\"$I$\",\n",
    "            ylim=(0, 8),\n",
    "            line_color=colors[i],\n",
    "            show=False,\n",
    "            label=f\"${label.name}$\",\n",
    "            legend=True,\n",
    "        )\n",
    "    )\n",
    "for i in range(1, 4):\n",
    "    plots[0].extend(plots[i])\n",
    "plots[0].show()"
   ]
  },
  {
   "cell_type": "markdown",
   "metadata": {},
   "source": [
    "## Set dynamics"
   ]
  },
  {
   "cell_type": "code",
   "execution_count": null,
   "metadata": {},
   "outputs": [],
   "source": [
    "expression.dynamics"
   ]
  },
  {
   "cell_type": "code",
   "execution_count": null,
   "metadata": {},
   "outputs": [],
   "source": [
    "from expertsystem.amplitude.dynamics import relativistic_breit_wigner\n",
    "\n",
    "m = sy.Symbol(\"m(\\pi^0\\pi^0)\", real=True)\n",
    "resonances = [\n",
    "    model.particles[\"f(0)(980)\"],\n",
    "    model.particles[\"f(0)(1500)\"],\n",
    "]\n",
    "for p in resonances:\n",
    "    dynamics_label = next(\n",
    "        iter(\n",
    "            filter(\n",
    "                lambda d: d.name.startswith(f\"D[{p.latex}\"),\n",
    "                expression.dynamics,\n",
    "            )\n",
    "        )\n",
    "    )\n",
    "    dynamics_expression = relativistic_breit_wigner(\n",
    "        mass=m,\n",
    "        mass0=p.mass,\n",
    "        gamma0=p.width,\n",
    "    )\n",
    "    expression.dynamics[dynamics_label] = dynamics_expression\n",
    "\n",
    "assert len(expression.dynamics) == 4"
   ]
  },
  {
   "cell_type": "code",
   "execution_count": null,
   "metadata": {},
   "outputs": [],
   "source": [
    "full_expression = expression.full_expression.subs(initial_values)\n",
    "full_expression.free_symbols"
   ]
  },
  {
   "cell_type": "code",
   "execution_count": null,
   "metadata": {},
   "outputs": [],
   "source": [
    "angle = 0\n",
    "angle_substitutions = {\n",
    "    s: angle for s in full_expression.free_symbols if s != m\n",
    "}\n",
    "intensity = full_expression.doit().subs(angle_substitutions)"
   ]
  },
  {
   "cell_type": "code",
   "execution_count": null,
   "metadata": {
    "tags": [
     "remove-cell"
    ]
   },
   "outputs": [],
   "source": [
    "# integration_variables = [s for s in full_expression.free_symbols if s != mass_symbol]\n",
    "# sy.integrate(\n",
    "#     sy.re(full_expression.doit()),\n",
    "#     *(\n",
    "#         (x, -sy.pi, sy.pi) if \"phi\" in x.name else (x, 0, sy.pi)\n",
    "#         for x in integration_variables\n",
    "#     ),\n",
    "# )"
   ]
  },
  {
   "cell_type": "code",
   "execution_count": null,
   "metadata": {},
   "outputs": [],
   "source": [
    "sy.plot(\n",
    "    intensity,\n",
    "    (m, 0, 3),\n",
    "    axis_center=(0, 0),\n",
    "    xlabel=f\"${m.name}$\",\n",
    "    ylabel=\"$I$\",\n",
    ");"
   ]
  }
 ],
 "metadata": {
  "kernelspec": {
   "display_name": "Python 3",
   "language": "python",
   "name": "python3"
  },
  "language_info": {
   "codemirror_mode": {
    "name": "ipython",
    "version": 3
   },
   "file_extension": ".py",
   "mimetype": "text/x-python",
   "name": "python",
   "nbconvert_exporter": "python",
   "pygments_lexer": "ipython3",
   "version": "3.8.5"
  }
 },
 "nbformat": 4,
 "nbformat_minor": 4
}
