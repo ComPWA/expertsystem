{
 "cells": [
  {
   "cell_type": "markdown",
   "metadata": {},
   "source": [
    "# SymPy amplitude model"
   ]
  },
  {
   "cell_type": "code",
   "execution_count": null,
   "metadata": {
    "jupyter": {
     "source_hidden": true
    },
    "tags": [
     "remove-cell"
    ]
   },
   "outputs": [],
   "source": [
    "# To run in in Google Colab, uncomment the following:\n",
    "\n",
    "# !pip install expertsystem graphviz"
   ]
  },
  {
   "cell_type": "markdown",
   "metadata": {},
   "source": [
    "## Generate transitions"
   ]
  },
  {
   "cell_type": "markdown",
   "metadata": {},
   "source": [
    "As in the doc}`usual workflow <workflow>`, use {func}`.generate_transitions` to create a list of allowed {class}`.StateTransitionGraph` instances for a specific decay channel:"
   ]
  },
  {
   "cell_type": "code",
   "execution_count": null,
   "metadata": {},
   "outputs": [],
   "source": [
    "import expertsystem as es\n",
    "\n",
    "result = es.generate_transitions(\n",
    "    initial_state=(\"J/psi(1S)\", [-1, +1]),\n",
    "    final_state=[\"gamma\", \"pi0\", \"pi0\"],\n",
    "    allowed_intermediate_particles=[\"f(0)(980)\", \"f(0)(1500)\"],\n",
    "    allowed_interaction_types=[\"strong\", \"EM\"],\n",
    "    formalism_type=\"canonical-helicity\",\n",
    ")"
   ]
  },
  {
   "cell_type": "code",
   "execution_count": null,
   "metadata": {},
   "outputs": [],
   "source": [
    "import graphviz\n",
    "\n",
    "graphs = result.collapse_graphs()\n",
    "dot = es.io.convert_to_dot(graphs)\n",
    "graphviz.Source(dot)"
   ]
  },
  {
   "cell_type": "markdown",
   "metadata": {},
   "source": [
    "## Build SymPy expression"
   ]
  },
  {
   "cell_type": "markdown",
   "metadata": {},
   "source": [
    "Now, instead of using the usual {func}`.generate_amplitudes`, we use {func}`.generate_sympy` from the {mod}`.amplitude` module to formulate the amplitude model in terms of a {mod}`sympy`. The function {func}`.generate_sympy` returns a {class}`.ModelInfo` object that contains a {class}`sympy.Expr <sympy.core.expr.Expr>`:"
   ]
  },
  {
   "cell_type": "code",
   "execution_count": null,
   "metadata": {},
   "outputs": [],
   "source": [
    "model = es.amplitude.generate_sympy(result)\n",
    "expression = model.expression\n",
    "expression.top"
   ]
  },
  {
   "cell_type": "markdown",
   "metadata": {},
   "source": [
    "The {class}`sympy.Expr <sympy.core.expr.Expr>` is currently just a sum of {class}`sympy.Symbol <sympy.core.symbol.Symbol>` instances that represent a sum of intensities. You can now recursively replace ({meth}`~sympy.core.basic.Basic.subs`) these symbols with {attr}`.SympyModel.intensities` and {attr}`.SympyModel.amplitudes`:"
   ]
  },
  {
   "cell_type": "code",
   "execution_count": null,
   "metadata": {},
   "outputs": [],
   "source": [
    "expression.top.subs(expression.intensities)"
   ]
  },
  {
   "cell_type": "markdown",
   "metadata": {},
   "source": [
    "{class}`.ModelInfo` also contains a mapping of {attr}`.ModelInfo.parameters` to some suggested parameter values ({class}`.ParameterProperties`). These can be used to substitute symbols in the expression with initial values:"
   ]
  },
  {
   "cell_type": "code",
   "execution_count": null,
   "metadata": {},
   "outputs": [],
   "source": [
    "import sympy as sy\n",
    "\n",
    "initial_values = {k: v.value for k, v in model.parameters.items()}\n",
    "evaluated_wigner_d = sy.expand(\n",
    "    expression.full_expression.subs(initial_values).doit()\n",
    ")\n",
    "evaluated_wigner_d"
   ]
  },
  {
   "cell_type": "markdown",
   "metadata": {},
   "source": [
    "Note: we use {meth}`~sympy.core.basic.Basic.doit` to evaluate the Wigner-$D$ ({meth}`Rotation.D <sympy.physics.quantum.spin.Rotation.D>`) and or Clebsch-Gordan ({class}`~sympy.physics.quantum.cg.CG`) functions in the full expression."
   ]
  },
  {
   "cell_type": "markdown",
   "metadata": {},
   "source": [
    "## Visualize"
   ]
  },
  {
   "cell_type": "markdown",
   "metadata": {},
   "source": [
    "In this case ($J/\\psi \\to \\gamma f_0, f_0 \\to \\pi^0\\pi^0$) _without dynamics_, the total intensity is only dependent on the $\\theta$ angle between the two $\\pi^0$'s:"
   ]
  },
  {
   "cell_type": "code",
   "execution_count": null,
   "metadata": {
    "tags": [
     "hide-input"
    ]
   },
   "outputs": [],
   "source": [
    "import sympy as sy\n",
    "\n",
    "theta = next(iter(evaluated_wigner_d.free_symbols))\n",
    "sy.plot(\n",
    "    evaluated_wigner_d,\n",
    "    (theta, 0, sy.pi),\n",
    "    axis_center=(0, 0),\n",
    "    ylabel=\"$I$\",\n",
    "    ylim=(0, 16),\n",
    ");"
   ]
  },
  {
   "cell_type": "markdown",
   "metadata": {},
   "source": [
    "This intensity is built up of four components:"
   ]
  },
  {
   "cell_type": "code",
   "execution_count": null,
   "metadata": {
    "tags": [
     "hide-input"
    ]
   },
   "outputs": [],
   "source": [
    "display(*expression.intensities)"
   ]
  },
  {
   "cell_type": "code",
   "execution_count": null,
   "metadata": {},
   "outputs": [],
   "source": [
    "evaluated_wigner_d.free_symbols"
   ]
  },
  {
   "cell_type": "markdown",
   "metadata": {},
   "source": [
    "This can be nicely visualized as follows:"
   ]
  },
  {
   "cell_type": "code",
   "execution_count": null,
   "metadata": {
    "tags": [
     "hide-input"
    ]
   },
   "outputs": [],
   "source": [
    "import sympy as sy\n",
    "\n",
    "plots = list()\n",
    "colors = [\"red\", \"blue\", \"green\", \"purple\"]\n",
    "\n",
    "total = 0\n",
    "for i, (label, intensity) in enumerate(expression.intensities.items()):\n",
    "    total += (\n",
    "        intensity.subs(expression.amplitudes)\n",
    "        .subs(expression.dynamics)\n",
    "        .subs(initial_values)\n",
    "        .doit()\n",
    "    )\n",
    "    plots.append(\n",
    "        sy.plot(\n",
    "            total,\n",
    "            (theta, 0, sy.pi),\n",
    "            axis_center=(0, 0),\n",
    "            ylabel=\"$I$\",\n",
    "            ylim=(0, 16),\n",
    "            line_color=colors[i],\n",
    "            show=False,\n",
    "            label=f\"${label.name}$\",\n",
    "            legend=True,\n",
    "        )\n",
    "    )\n",
    "for i in range(1, 4):\n",
    "    plots[0].extend(plots[i])\n",
    "plots[0].show()"
   ]
  },
  {
   "cell_type": "markdown",
   "metadata": {},
   "source": [
    "## Set dynamics"
   ]
  },
  {
   "cell_type": "markdown",
   "metadata": {},
   "source": [
    "Note that the {class}`.ModelInfo` class contains a few dynamics symbols. By default, these dynamics symbols are substituted to \"non-dynamic\" (equal to $1$)."
   ]
  },
  {
   "cell_type": "code",
   "execution_count": null,
   "metadata": {},
   "outputs": [],
   "source": [
    "expression.dynamics"
   ]
  },
  {
   "cell_type": "markdown",
   "metadata": {},
   "source": [
    "You can set the values of this {attr}`~.SympyModel.dynamics` mapping to be any kind of {class}`~sympy.core.expr.Expr`, as long as you keep track of which {class}`~sympy.core.symbol.Symbol` names you use. The {mod}`expertsystem` does provide a few common {mod}`.lineshape` functions however, which can be constructed as {class}`~sympy.core.expr.Expr` with the correct {class}`~sympy.core.symbol.Symbol` names using {func}`.set_resonance_dynamics`. This function takes specific {mod}`.builder` functions, such as {func}`.create_relativistic_breit_wigner`, which would create a {func}`.relativistic_breit_wigner` for a specific resonance. Here's an example for a relativistic Breit-Wigner _with form factor_:"
   ]
  },
  {
   "cell_type": "code",
   "execution_count": null,
   "metadata": {},
   "outputs": [],
   "source": [
    "from expertsystem.amplitude.dynamics import set_resonance_dynamics\n",
    "from expertsystem.amplitude.dynamics.builder import (\n",
    "    create_relativistic_breit_wigner_with_ff,\n",
    ")\n",
    "\n",
    "set_resonance_dynamics(\n",
    "    model, \"f(0)(980)\", create_relativistic_breit_wigner_with_ff\n",
    ")\n",
    "set_resonance_dynamics(\n",
    "    model, \"f(0)(1500)\", create_relativistic_breit_wigner_with_ff\n",
    ")\n",
    "assert len(expression.dynamics) == 4"
   ]
  },
  {
   "cell_type": "markdown",
   "metadata": {},
   "source": [
    "## Plot the model"
   ]
  },
  {
   "cell_type": "markdown",
   "metadata": {},
   "source": [
    "At this stage, we have several free symbols. For the fitting package these will be considered **parameters** that are to be optimized and (kinematic) **variables** that represent the data set. Examples of parameters are mass ($m_\\text{particle}$) and width ($\\Gamma_\\text{particle}$) of the resonances and certain amplitude coefficients ($C$). Examples of kinematic variables are the helicity angles $\\theta$ and $\\phi$ and the invariant masses ($m_{ij...}$)."
   ]
  },
  {
   "cell_type": "code",
   "execution_count": null,
   "metadata": {},
   "outputs": [],
   "source": [
    "display(*expression.full_expression.free_symbols)"
   ]
  },
  {
   "cell_type": "markdown",
   "metadata": {},
   "source": [
    "Let's say we want to plot the amplitude model with respect to $m_{3+4}$. We would have to substitute all other free symbols with some value."
   ]
  },
  {
   "cell_type": "markdown",
   "metadata": {},
   "source": [
    "First, we can use {attr}`.ModelInfo.parameters` to substitute the parameters with suggested values:"
   ]
  },
  {
   "cell_type": "code",
   "execution_count": null,
   "metadata": {},
   "outputs": [],
   "source": [
    "suggested_expression = expression.full_expression.subs(\n",
    "    {k: v.value for k, v in model.parameters.items()}\n",
    ")\n",
    "suggested_expression.free_symbols"
   ]
  },
  {
   "cell_type": "markdown",
   "metadata": {},
   "source": [
    "Ideally, we would now 'integrate out' the helicity angles. Here, we however just set these angles to $0$, as computing the integral would take quite some time:"
   ]
  },
  {
   "cell_type": "code",
   "execution_count": null,
   "metadata": {},
   "outputs": [],
   "source": [
    "angle = 0\n",
    "angle_substitutions = {\n",
    "    s: angle\n",
    "    for s in suggested_expression.free_symbols\n",
    "    if s.name.startswith(\"phi\") or s.name.startswith(\"theta\")\n",
    "}\n",
    "evaluated_angle_intensity = suggested_expression.subs(angle_substitutions)\n",
    "evaluated_angle_intensity.free_symbols"
   ]
  },
  {
   "cell_type": "markdown",
   "metadata": {},
   "source": [
    "By now we are only left with the masses of the final state particles ($m_3$ and $m_4$), since they appear as symbols in the {func}`.relativistic_breit_wigner_with_ff`. Final state particles 3 and 4 are the $\\pi^0$'s, so we can just substitute them with their masses."
   ]
  },
  {
   "cell_type": "code",
   "execution_count": null,
   "metadata": {},
   "outputs": [],
   "source": [
    "from expertsystem.io import load_pdg\n",
    "\n",
    "pi0 = load_pdg()[\"pi0\"]\n",
    "plotted_intensity = evaluated_angle_intensity.doit().subs(\n",
    "    {\n",
    "        sy.Symbol(\"m_3\", real=True): pi0.mass,\n",
    "        sy.Symbol(\"m_4\", real=True): pi0.mass,\n",
    "    },\n",
    "    simultaneous=True,\n",
    ")"
   ]
  },
  {
   "cell_type": "markdown",
   "metadata": {},
   "source": [
    "```{note}\n",
    "Use {meth}`~sympy.core.basic.Basic.subs` with `simultaneous=True`, as that avoids a bug later on when plotting with {mod}`matplotlib.pyplot`.\n",
    "```"
   ]
  },
  {
   "cell_type": "markdown",
   "metadata": {},
   "source": [
    "That's it! Now we are only left with the invariant mass $m_{3+4}$ of the two pions:"
   ]
  },
  {
   "cell_type": "code",
   "execution_count": null,
   "metadata": {},
   "outputs": [],
   "source": [
    "assert len(plotted_intensity.free_symbols) == 1\n",
    "m = next(iter(plotted_intensity.free_symbols))\n",
    "m"
   ]
  },
  {
   "cell_type": "markdown",
   "metadata": {},
   "source": [
    "...and we can plot it with with {func}`sympy.plot <sympy.plotting.plot.plot>`:"
   ]
  },
  {
   "cell_type": "code",
   "execution_count": null,
   "metadata": {},
   "outputs": [],
   "source": [
    "sy.plot(\n",
    "    plotted_intensity,\n",
    "    (m, 2 * pi0.mass, 2.5),\n",
    "    axis_center=(2 * pi0.mass, 0),\n",
    "    xlabel=f\"$m(\\pi^{0}\\pi^{0})$\",\n",
    "    ylabel=\"$I$\",\n",
    "    backend=\"matplotlib\",\n",
    ");"
   ]
  },
  {
   "cell_type": "markdown",
   "metadata": {},
   "source": [
    "The expression itself looks like this (after some rounding of the `float` values in this expression:"
   ]
  },
  {
   "cell_type": "code",
   "execution_count": null,
   "metadata": {
    "tags": [
     "hide-input"
    ]
   },
   "outputs": [],
   "source": [
    "from sympy import preorder_traversal\n",
    "\n",
    "rounded_intensity = plotted_intensity\n",
    "rounded_intensity = rounded_intensity.subs({sy.sqrt(10): sy.sqrt(10).n()})\n",
    "for a in preorder_traversal(rounded_intensity):\n",
    "    if isinstance(a, sy.Float):\n",
    "        rounded_intensity = rounded_intensity.subs(a, round(a, 2))\n",
    "rounded_intensity"
   ]
  },
  {
   "cell_type": "markdown",
   "metadata": {},
   "source": [
    "Finally, here's a small snippet of how to use {func}`~sympy.integrals.integrals.integrate`. Again, it's not evaluated here, because that takes too much time:"
   ]
  },
  {
   "cell_type": "code",
   "execution_count": null,
   "metadata": {
    "tags": [
     "keep_output"
    ]
   },
   "outputs": [],
   "source": [
    "# sy.integrate(\n",
    "#     rounded_intensity,\n",
    "#     (m, 2.01 * pi0.mass, sy.oo),\n",
    "#     meijerg=True,\n",
    "#     conds=\"piecewise\",\n",
    "#     risch=None,\n",
    "#     heurisch=None,\n",
    "#     manual=None,\n",
    "# ).evalf(5)"
   ]
  }
 ],
 "metadata": {
  "kernelspec": {
   "display_name": "Python 3",
   "language": "python",
   "name": "python3"
  },
  "language_info": {
   "codemirror_mode": {
    "name": "ipython",
    "version": 3
   },
   "file_extension": ".py",
   "mimetype": "text/x-python",
   "name": "python",
   "nbconvert_exporter": "python",
   "pygments_lexer": "ipython3",
   "version": "3.8.5"
  }
 },
 "nbformat": 4,
 "nbformat_minor": 4
}
