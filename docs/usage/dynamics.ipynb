{
 "cells": [
  {
   "cell_type": "markdown",
   "metadata": {},
   "source": [
    "# Dynamics"
   ]
  },
  {
   "cell_type": "markdown",
   "metadata": {},
   "source": [
    "## Set-up"
   ]
  },
  {
   "cell_type": "code",
   "execution_count": null,
   "metadata": {},
   "outputs": [],
   "source": [
    "import sympy as sy\n",
    "from expertsystem.amplitude.dynamics import (\n",
    "    relativistic_breit_wigner,\n",
    "    relativistic_breit_wigner_with_form_factor,\n",
    ")"
   ]
  },
  {
   "cell_type": "markdown",
   "metadata": {},
   "source": [
    "## Relativistic Breit-Wigner _without_ form factor"
   ]
  },
  {
   "cell_type": "code",
   "execution_count": null,
   "metadata": {},
   "outputs": [],
   "source": [
    "m, m0, w0 = sy.symbols(R\"m m0 \\Gamma\", real=True)\n",
    "relativistic_breit_wigner(m, m0, w0)"
   ]
  },
  {
   "cell_type": "code",
   "execution_count": null,
   "metadata": {},
   "outputs": [],
   "source": [
    "m0 = 1.0\n",
    "w0 = 0.3\n",
    "m_min = 0\n",
    "m_max = 2\n",
    "\n",
    "mass_range = (m_min, m_max)\n",
    "complex_bw = relativistic_breit_wigner(m, m0, w0)\n",
    "\n",
    "sy.plot(\n",
    "    sy.Abs(complex_bw),\n",
    "    (m, m_min, m_max),\n",
    "    xlabel=\"$m$\",\n",
    "    ylabel=\"$I(m)$\",\n",
    "    ylim=(0, 1),\n",
    "    axis_center=(0, 0),\n",
    ")\n",
    "sy.plot(\n",
    "    sy.arg(complex_bw),\n",
    "    (m, m_min, m_max),\n",
    "    xlabel=\"$m$\",\n",
    "    ylabel=R\"$\\delta(m)$\",\n",
    "    ylim=(0, sy.pi),\n",
    "    axis_center=(0, 0),\n",
    ");"
   ]
  },
  {
   "cell_type": "markdown",
   "metadata": {},
   "source": [
    "## Relativistic Breit-Wigner with form factor"
   ]
  },
  {
   "cell_type": "code",
   "execution_count": null,
   "metadata": {},
   "outputs": [],
   "source": [
    "l = 0\n",
    "ma, mb, meson_radius = sy.symbols(R\"m_a m_b q_r\", real=True)\n",
    "relativistic_breit_wigner_with_form_factor(\n",
    "    mass=m,\n",
    "    mass0=m0,\n",
    "    gamma0=w0,\n",
    "    m_a=ma,\n",
    "    m_b=mb,\n",
    "    angular_momentum=l,\n",
    "    meson_radius=meson_radius,\n",
    ")"
   ]
  },
  {
   "cell_type": "code",
   "execution_count": null,
   "metadata": {},
   "outputs": [],
   "source": [
    "resonance_mass = 1.0\n",
    "width = 0.3\n",
    "ma = 0.2\n",
    "mb = 0.3\n",
    "l = 0\n",
    "meson_radius = 1\n",
    "\n",
    "m_min = ma + mb\n",
    "m_max = 2\n",
    "mass_range = (m_min, m_max)\n",
    "\n",
    "complex_bw_ff = relativistic_breit_wigner_with_form_factor(\n",
    "    mass=m,\n",
    "    mass0=resonance_mass,\n",
    "    gamma0=width,\n",
    "    m_a=ma,\n",
    "    m_b=mb,\n",
    "    angular_momentum=l,\n",
    "    meson_radius=meson_radius,\n",
    ")\n",
    "\n",
    "sy.plot(\n",
    "    sy.Abs(complex_bw_ff),\n",
    "    (m, m_min, m_max),\n",
    "    xlabel=\"$m$\",\n",
    "    ylabel=\"$I(m)$\",\n",
    "    xlim=(m_min, m_max),\n",
    "    axis_center=(ma + mb, 0),\n",
    ")\n",
    "sy.plot(\n",
    "    sy.arg(complex_bw_ff),\n",
    "    (m, m_min, m_max),\n",
    "    xlabel=\"$m$\",\n",
    "    ylabel=R\"$\\delta(m)$\",\n",
    "    xlim=(m_min, m_max),\n",
    "    ylim=(0, sy.pi),\n",
    "    axis_center=(m_min, 0),\n",
    ");"
   ]
  }
 ],
 "metadata": {
  "kernelspec": {
   "display_name": "Python 3",
   "language": "python",
   "name": "python3"
  },
  "language_info": {
   "codemirror_mode": {
    "name": "ipython",
    "version": 3
   },
   "file_extension": ".py",
   "mimetype": "text/x-python",
   "name": "python",
   "nbconvert_exporter": "python",
   "pygments_lexer": "ipython3",
   "version": "3.8.5"
  }
 },
 "nbformat": 4,
 "nbformat_minor": 4
}
