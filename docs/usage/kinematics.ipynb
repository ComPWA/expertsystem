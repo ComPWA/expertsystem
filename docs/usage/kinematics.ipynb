{
 "cells": [
  {
   "cell_type": "markdown",
   "metadata": {},
   "source": [
    "# Kinematics"
   ]
  },
  {
   "cell_type": "markdown",
   "metadata": {},
   "source": [
    "````{dropdown} To-do list\n",
    "```{todolist}\n",
    "```\n",
    "````"
   ]
  },
  {
   "cell_type": "code",
   "execution_count": null,
   "metadata": {
    "jupyter": {
     "source_hidden": true
    },
    "tags": [
     "remove-cell"
    ]
   },
   "outputs": [],
   "source": [
    "%config Completer.use_jedi = False"
   ]
  },
  {
   "cell_type": "code",
   "execution_count": null,
   "metadata": {
    "jupyter": {
     "source_hidden": true
    },
    "tags": [
     "hide-cell"
    ]
   },
   "outputs": [],
   "source": [
    "import sympy as sy\n",
    "from expertsystem.amplitude.kinematics import (\n",
    "    Beta,\n",
    "    BoostZ,\n",
    "    LorentzVector,\n",
    "    P3Norm,\n",
    "    Phi,\n",
    "    RotationY,\n",
    "    RotationZ,\n",
    "    Theta,\n",
    "    nested_helicity_angles,\n",
    ")"
   ]
  },
  {
   "cell_type": "code",
   "execution_count": null,
   "metadata": {
    "jupyter": {
     "source_hidden": true
    },
    "tags": [
     "remove-cell"
    ]
   },
   "outputs": [],
   "source": [
    "!pip install black"
   ]
  },
  {
   "cell_type": "code",
   "execution_count": null,
   "metadata": {
    "jupyter": {
     "source_hidden": true
    },
    "tags": [
     "hide-cell"
    ]
   },
   "outputs": [],
   "source": [
    "import inspect\n",
    "\n",
    "from black import FileMode, format_str\n",
    "\n",
    "\n",
    "def print_lambdify(\n",
    "    parameters, expr: sy.Expr, backend: str = \"numpy\", black: bool = True\n",
    ") -> None:\n",
    "    source_code = inspect.getsource(sy.lambdify(parameters, expr, backend))\n",
    "    if black:\n",
    "        source_code = format_str(source_code, mode=FileMode())\n",
    "    print(source_code)"
   ]
  },
  {
   "cell_type": "markdown",
   "metadata": {
    "tags": []
   },
   "source": [
    "## {class}`.LorentzVector`"
   ]
  },
  {
   "cell_type": "code",
   "execution_count": null,
   "metadata": {
    "tags": []
   },
   "outputs": [],
   "source": [
    "p = LorentzVector(\"p\")\n",
    "q = LorentzVector(\"q\")\n",
    "display(\n",
    "    P3Norm(p),\n",
    "    P3Norm(p).doit(),\n",
    "    p.dot(q),\n",
    "    p.norm_squared(),\n",
    ")\n",
    "print_lambdify(p, p.norm_squared())\n",
    "print_lambdify(p, P3Norm(p).doit())"
   ]
  },
  {
   "cell_type": "markdown",
   "metadata": {},
   "source": [
    "```{todo}\n",
    "Currently, {meth}`.norm` does not render as good as {meth}`.norm_squared`, because `as_explicit()` does not work recursively within the {func}`~sympy.functions.elementary.miscellaneous.sqrt`.\n",
    "```"
   ]
  },
  {
   "cell_type": "markdown",
   "metadata": {
    "tags": []
   },
   "source": [
    "## Boosting"
   ]
  },
  {
   "cell_type": "code",
   "execution_count": null,
   "metadata": {},
   "outputs": [],
   "source": [
    "display(\n",
    "    Beta(p),\n",
    "    Beta(p).doit(),\n",
    ")\n",
    "print_lambdify(p, Beta(p).doit())"
   ]
  },
  {
   "cell_type": "code",
   "execution_count": null,
   "metadata": {},
   "outputs": [],
   "source": [
    "display(\n",
    "    sy.Mul(BoostZ(Beta(p)), q),\n",
    "    sy.Mul(BoostZ(Beta(p)), q).doit(),\n",
    ")"
   ]
  },
  {
   "cell_type": "code",
   "execution_count": null,
   "metadata": {
    "tags": [
     "hide-output"
    ]
   },
   "outputs": [],
   "source": [
    "print_lambdify((p, q), sy.Mul(BoostZ(Beta(p)), q).doit())"
   ]
  },
  {
   "cell_type": "markdown",
   "metadata": {
    "tags": []
   },
   "source": [
    "## Rotating"
   ]
  },
  {
   "cell_type": "code",
   "execution_count": null,
   "metadata": {},
   "outputs": [],
   "source": [
    "display(\n",
    "    Phi(p),\n",
    "    Phi(p).doit(),\n",
    ")\n",
    "print_lambdify(p, Phi(p).doit())"
   ]
  },
  {
   "cell_type": "code",
   "execution_count": null,
   "metadata": {},
   "outputs": [],
   "source": [
    "display(\n",
    "    Theta(p),\n",
    "    Theta(p).doit(),\n",
    ")\n",
    "print_lambdify(p, Theta(p).doit())"
   ]
  },
  {
   "cell_type": "code",
   "execution_count": null,
   "metadata": {},
   "outputs": [],
   "source": [
    "phi = sy.Symbol(\"phi\")\n",
    "display(\n",
    "    RotationZ(phi),\n",
    "    RotationZ(phi).doit(),\n",
    ")"
   ]
  },
  {
   "cell_type": "code",
   "execution_count": null,
   "metadata": {},
   "outputs": [],
   "source": [
    "print_lambdify(phi, RotationZ(phi).doit())"
   ]
  },
  {
   "cell_type": "markdown",
   "metadata": {
    "tags": []
   },
   "source": [
    "## Boosting and rotating"
   ]
  },
  {
   "cell_type": "code",
   "execution_count": null,
   "metadata": {},
   "outputs": [],
   "source": [
    "beta = Beta(p)\n",
    "phi = Phi(p)\n",
    "theta = Theta(p)\n",
    "boosted = sy.MatMul(BoostZ(beta), RotationY(-Phi(p)), RotationZ(-Theta(p)), p)\n",
    "boosted"
   ]
  },
  {
   "cell_type": "code",
   "execution_count": null,
   "metadata": {},
   "outputs": [],
   "source": [
    "print_lambdify(p, boosted.doit())"
   ]
  },
  {
   "cell_type": "markdown",
   "metadata": {
    "tags": []
   },
   "source": [
    "## Nested helicity angles"
   ]
  },
  {
   "cell_type": "code",
   "execution_count": null,
   "metadata": {
    "jupyter": {
     "source_hidden": true
    },
    "tags": [
     "hide-cell"
    ]
   },
   "outputs": [],
   "source": [
    "import numpy as np\n",
    "\n",
    "TEST_DATA = {\n",
    "    2: np.array(\n",
    "        [\n",
    "            (1.35527, 0.514208, -0.184219, 1.23296),\n",
    "            (0.841933, 0.0727385, -0.0528868, 0.826163),\n",
    "            (0.550927, -0.162529, 0.29976, -0.411133),\n",
    "            (0.425195, 0.0486171, 0.151922, 0.370309),\n",
    "            (0.186869, -0.0555915, -0.100214, -0.0597338),\n",
    "            (1.26375, 0.238921, 0.266712, -1.20442),\n",
    "            (0.737698, 0.450724, -0.439515, -0.360076),\n",
    "            (0.965809, 0.552298, 0.440006, 0.644927),\n",
    "            (0.397113, -0.248155, -0.158587, -0.229673),\n",
    "            (1.38955, 1.33491, 0.358535, 0.0457548),\n",
    "        ]\n",
    "    ).T,\n",
    "    3: np.array(\n",
    "        [\n",
    "            (0.755744, -0.305812, 0.284, -0.630057),\n",
    "            (1.02861, 0.784483, 0.614347, -0.255334),\n",
    "            (0.356875, -0.20767, 0.272796, 0.0990739),\n",
    "            (0.70757, 0.404557, 0.510467, -0.276426),\n",
    "            (0.953902, 0.47713, 0.284575, -0.775431),\n",
    "            (0.220732, -0.204775, -0.0197981, 0.0799868),\n",
    "            (0.734602, 0.00590727, 0.709346, -0.190877),\n",
    "            (0.607787, 0.329157, -0.431973, 0.272873),\n",
    "            (0.626325, -0.201436, -0.534829, 0.256253),\n",
    "            (0.386432, -0.196357, 0.00211926, -0.33282),\n",
    "        ]\n",
    "    ).T,\n",
    "    4: np.array(\n",
    "        [\n",
    "            (0.208274, -0.061663, -0.0211864, 0.144596),\n",
    "            (0.461193, -0.243319, -0.283044, -0.234866),\n",
    "            (1.03294, 0.82872, -0.0465425, -0.599834),\n",
    "            (0.752466, 0.263003, -0.089236, 0.686187),\n",
    "            (0.746588, 0.656892, -0.107848, 0.309898),\n",
    "            (0.692537, 0.521569, -0.0448683, 0.43283),\n",
    "            (0.865147, -0.517582, -0.676002, -0.0734335),\n",
    "            (1.35759, -0.975278, -0.0207817, -0.934467),\n",
    "            (0.852141, -0.41665, 0.237646, 0.691269),\n",
    "            (0.616162, -0.464203, -0.358114, 0.13307),\n",
    "        ]\n",
    "    ).T,\n",
    "    5: np.array(\n",
    "        [\n",
    "            (0.777613, -0.146733, -0.0785946, -0.747499),\n",
    "            (0.765168, -0.613903, -0.278416, -0.335962),\n",
    "            (1.15616, -0.458522, -0.526014, 0.911894),\n",
    "            (1.21167, -0.716177, -0.573154, -0.780069),\n",
    "            (1.20954, -1.07843, -0.0765127, 0.525267),\n",
    "            (0.919879, -0.555715, -0.202046, 0.691605),\n",
    "            (0.759452, 0.0609506, 0.406171, 0.624387),\n",
    "            (0.165716, 0.0938229, 0.012748, 0.0166676),\n",
    "            (1.22132, 0.866241, 0.455769, -0.717849),\n",
    "            (0.704759, -0.674348, -0.0025409, 0.153994),\n",
    "        ]\n",
    "    ).T,\n",
    "}"
   ]
  },
  {
   "cell_type": "code",
   "execution_count": null,
   "metadata": {},
   "outputs": [],
   "source": [
    "state_ids = list(TEST_DATA)\n",
    "four_momentum_symbols = tuple(LorentzVector(f\"p_{i}\") for i in state_ids)\n",
    "momentum_pool = dict(zip(state_ids, four_momentum_symbols))\n",
    "sy.Array(momentum_pool.values())"
   ]
  },
  {
   "cell_type": "code",
   "execution_count": null,
   "metadata": {},
   "outputs": [],
   "source": [
    "angles, intermediate_momenta = nested_helicity_angles(\n",
    "    momentum_pool, [[[3, 4], 5], 2]\n",
    ")"
   ]
  },
  {
   "cell_type": "code",
   "execution_count": null,
   "metadata": {},
   "outputs": [],
   "source": [
    "for symbol, expr in angles.items():\n",
    "    display(sy.Array([symbol, expr, expr.subs(intermediate_momenta)]))"
   ]
  },
  {
   "cell_type": "code",
   "execution_count": null,
   "metadata": {},
   "outputs": [],
   "source": [
    "for symbol, expr in intermediate_momenta.items():\n",
    "    display(sy.Array([symbol, expr]))"
   ]
  },
  {
   "cell_type": "markdown",
   "metadata": {
    "tags": []
   },
   "source": [
    "## Lambdifying"
   ]
  },
  {
   "cell_type": "code",
   "execution_count": null,
   "metadata": {},
   "outputs": [],
   "source": [
    "intermediate_four_momenta = {\n",
    "    k: sy.lambdify(\n",
    "        sorted(expr.free_symbols, key=lambda s: s.name),\n",
    "        expr.doit(),\n",
    "        modules=\"numpy\",\n",
    "    )\n",
    "    for k, expr in intermediate_momenta.items()\n",
    "}\n",
    "intermediate_four_momenta"
   ]
  },
  {
   "cell_type": "markdown",
   "metadata": {},
   "source": [
    "```{todo}\n",
    "Think of a labeling that describes the nesting: $\\mathbf{p_{345}}$ is not in the CMS frame!\n",
    "```"
   ]
  },
  {
   "cell_type": "code",
   "execution_count": null,
   "metadata": {
    "tags": [
     "hide-output"
    ]
   },
   "outputs": [],
   "source": [
    "print(\n",
    "    format_str(\n",
    "        inspect.getsource(list(intermediate_four_momenta.values())[1]),\n",
    "        mode=FileMode(),\n",
    "    )\n",
    ")"
   ]
  },
  {
   "cell_type": "code",
   "execution_count": null,
   "metadata": {},
   "outputs": [],
   "source": [
    "v = intermediate_four_momenta[LorentzVector(\"p_{345}\")]\n",
    "display(\n",
    "    v(\n",
    "        TEST_DATA[3],\n",
    "        TEST_DATA[4],\n",
    "        TEST_DATA[5],\n",
    "    )\n",
    ")"
   ]
  },
  {
   "cell_type": "code",
   "execution_count": null,
   "metadata": {},
   "outputs": [],
   "source": [
    "v = intermediate_four_momenta[LorentzVector(\"p_{34}\")]\n",
    "display(\n",
    "    v(\n",
    "        TEST_DATA[3],\n",
    "        TEST_DATA[4],\n",
    "        v(TEST_DATA[3], TEST_DATA[4], TEST_DATA[5]),\n",
    "    )\n",
    ")"
   ]
  },
  {
   "cell_type": "markdown",
   "metadata": {},
   "source": [
    "```{todo}\n",
    "Plug these lambdified results  for the intermediate momenta back into the angles.\n",
    "```"
   ]
  },
  {
   "cell_type": "markdown",
   "metadata": {},
   "source": [
    "```{todo}\n",
    "Verify resulting values with the ones in {mod}`tensorwaves` (see [here](https://github.com/ComPWA/tensorwaves/blob/3d0ec44/tests/physics/helicity_formalism/test_helicity_angles.py#L61-L98)).\n",
    "```"
   ]
  }
 ],
 "metadata": {
  "kernelspec": {
   "display_name": "Python 3",
   "language": "python",
   "name": "python3"
  },
  "language_info": {
   "codemirror_mode": {
    "name": "ipython",
    "version": 3
   },
   "file_extension": ".py",
   "mimetype": "text/x-python",
   "name": "python",
   "nbconvert_exporter": "python",
   "pygments_lexer": "ipython3",
   "version": "3.8.8"
  }
 },
 "nbformat": 4,
 "nbformat_minor": 4
}
