{
 "cells": [
  {
   "cell_type": "markdown",
   "id": "broken-flush",
   "metadata": {},
   "source": [
    "# Final state groupings"
   ]
  },
  {
   "cell_type": "markdown",
   "id": "drawn-offering",
   "metadata": {},
   "source": [
    "Using the {class}`.StateTransitionManager` allows for more customization than the {func}`.generate_transitions` façade function (see {doc}`workflow`. An important feature is its {meth}`.StateTransitionManager.add_final_state_grouping` method. This function becomes important when analyzing 4-body decays with the isobar model, because the number of topologies and allowed combinations is much larger than a 3-body decay. And when, in addition, spin is involved, the computation time becomes even worse."
   ]
  },
  {
   "cell_type": "markdown",
   "id": "known-xerox",
   "metadata": {},
   "source": [
    "Here, we have a look at the decay $J/\\psi(1S) \\to \\pi^+\\pi^-\\pi+\\pi-$. For simplicity, we only investigate spin projection an initial state with $+1$ and we limit the resonances to $f_0(980)$ and $\\rho(770)$ ― the important part is the final state groupings after all."
   ]
  },
  {
   "cell_type": "markdown",
   "id": "psychological-local",
   "metadata": {},
   "source": [
    "```{toggle}\n",
    "We are indeed cheating here a bit: the purpose of the {mod}`~.reaction` module is to find specific resonances and here we are already inserting them. These pages are, however, generated through {doc}`continuous integration <pwa:develop>`, so we want to limit the computation as much as possible.\n",
    "```"
   ]
  },
  {
   "cell_type": "code",
   "execution_count": null,
   "id": "jewish-banana",
   "metadata": {},
   "outputs": [],
   "source": [
    "from expertsystem.reaction import InteractionTypes, StateTransitionManager\n",
    "\n",
    "stm = StateTransitionManager(\n",
    "    initial_state=[(\"J/psi(1S)\", [+1])],\n",
    "    final_state=[\"pi-\", \"pi+\", \"pi-\", \"pi+\"],\n",
    "    allowed_intermediate_particles=[\"f(0)(980)\", \"rho(770)0\"],\n",
    "    formalism_type=\"canonical\",\n",
    ")\n",
    "stm.set_allowed_interaction_types(\n",
    "    [InteractionTypes.Strong, InteractionTypes.EM]\n",
    ")"
   ]
  },
  {
   "cell_type": "markdown",
   "id": "covered-myrtle",
   "metadata": {},
   "source": [
    "We are expecting the resonance to be between the `\\pi^+\\pi^-` pairs. This can be indicated with {meth}`.StateTransitionManager.add_final_state_grouping`:"
   ]
  },
  {
   "cell_type": "code",
   "execution_count": null,
   "id": "confidential-foster",
   "metadata": {},
   "outputs": [],
   "source": [
    "stm.add_final_state_grouping([[\"pi-\", \"pi+\"], [\"pi-\", \"pi+\"]])"
   ]
  },
  {
   "cell_type": "markdown",
   "id": "sufficient-conversion",
   "metadata": {},
   "source": [
    "That's all, we can now continue as in {doc}`workflow`."
   ]
  },
  {
   "cell_type": "code",
   "execution_count": null,
   "id": "lonely-testimony",
   "metadata": {},
   "outputs": [],
   "source": [
    "problem_sets = stm.create_problem_sets()\n",
    "result = stm.find_solutions(problem_sets)\n",
    "print(len(result.transitions), \"allowed transitions\")"
   ]
  },
  {
   "cell_type": "code",
   "execution_count": null,
   "id": "minute-smoke",
   "metadata": {},
   "outputs": [],
   "source": [
    "import expertsystem as es\n",
    "import graphviz\n",
    "\n",
    "dot = es.io.convert_to_dot(result.get_particle_graphs())\n",
    "graphviz.Source(dot)"
   ]
  }
 ],
 "metadata": {
  "kernelspec": {
   "display_name": "Python 3",
   "language": "python",
   "name": "python3"
  },
  "language_info": {
   "codemirror_mode": {
    "name": "ipython",
    "version": 3
   },
   "file_extension": ".py",
   "mimetype": "text/x-python",
   "name": "python",
   "nbconvert_exporter": "python",
   "pygments_lexer": "ipython3",
   "version": "3.8.5"
  }
 },
 "nbformat": 4,
 "nbformat_minor": 5
}
